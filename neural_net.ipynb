{
 "cells": [
  {
   "cell_type": "code",
   "execution_count": 79,
   "metadata": {
    "collapsed": true
   },
   "outputs": [],
   "source": [
    "import numpy as np"
   ]
  },
  {
   "cell_type": "markdown",
   "source": [
    "Configuration of nodes"
   ],
   "metadata": {
    "collapsed": false,
    "pycharm": {
     "name": "#%% md\n"
    }
   }
  },
  {
   "cell_type": "code",
   "execution_count": null,
   "outputs": [],
   "source": [
    "input_layer_nodes_count=5\n",
    "output_layer_nodes_count=5\n",
    "hidden_layer_nodes_count = [3,6,4]\n",
    "\n",
    "all_nodes_layer_count = [input_layer_nodes_count]\n",
    "for i in hidden_layer_nodes_count:\n",
    "    all_nodes_layer_count.append(i)\n",
    "all_nodes_layer_count.append(output_layer_nodes_count)\n",
    "print(all_nodes_layer_count)"
   ],
   "metadata": {
    "collapsed": false,
    "pycharm": {
     "name": "#%%\n"
    }
   }
  },
  {
   "cell_type": "markdown",
   "source": [
    "params initialization"
   ],
   "metadata": {
    "collapsed": false,
    "pycharm": {
     "name": "#%% md\n"
    }
   }
  },
  {
   "cell_type": "code",
   "execution_count": 81,
   "outputs": [],
   "source": [
    "params =[]\n",
    "for k in range(len(all_nodes_layer_count)-1):\n",
    "    p = np.zeros((0,all_nodes_layer_count[k]+1))\n",
    "    for j in range(all_nodes_layer_count[k+1]):\n",
    "        p = np.append(p,np.array([[0.01 for i in range(all_nodes_layer_count[k]+1)]]),axis = 0)\n",
    "    params.append(p)"
   ],
   "metadata": {
    "collapsed": false,
    "pycharm": {
     "name": "#%%\n"
    }
   }
  },
  {
   "cell_type": "code",
   "source": [
    "print(params)"
   ],
   "metadata": {
    "collapsed": false,
    "pycharm": {
     "name": "#%%\n"
    }
   },
   "execution_count": 82,
   "outputs": [
    {
     "name": "stdout",
     "output_type": "stream",
     "text": [
      "[array([[0.01, 0.01, 0.01, 0.01, 0.01, 0.01],\n",
      "       [0.01, 0.01, 0.01, 0.01, 0.01, 0.01],\n",
      "       [0.01, 0.01, 0.01, 0.01, 0.01, 0.01]]), array([[0.01, 0.01, 0.01, 0.01],\n",
      "       [0.01, 0.01, 0.01, 0.01],\n",
      "       [0.01, 0.01, 0.01, 0.01],\n",
      "       [0.01, 0.01, 0.01, 0.01],\n",
      "       [0.01, 0.01, 0.01, 0.01],\n",
      "       [0.01, 0.01, 0.01, 0.01]]), array([[0.01, 0.01, 0.01, 0.01, 0.01, 0.01, 0.01],\n",
      "       [0.01, 0.01, 0.01, 0.01, 0.01, 0.01, 0.01],\n",
      "       [0.01, 0.01, 0.01, 0.01, 0.01, 0.01, 0.01],\n",
      "       [0.01, 0.01, 0.01, 0.01, 0.01, 0.01, 0.01]]), array([[0.01, 0.01, 0.01, 0.01, 0.01],\n",
      "       [0.01, 0.01, 0.01, 0.01, 0.01],\n",
      "       [0.01, 0.01, 0.01, 0.01, 0.01],\n",
      "       [0.01, 0.01, 0.01, 0.01, 0.01],\n",
      "       [0.01, 0.01, 0.01, 0.01, 0.01]])]\n"
     ]
    }
   ]
  },
  {
   "cell_type": "code",
   "execution_count": 89,
   "outputs": [],
   "source": [
    "def sigmoid(output):\n",
    "    return 1 / (1 + np.exp(-1 * output))"
   ],
   "metadata": {
    "collapsed": false,
    "pycharm": {
     "name": "#%%\n"
    }
   }
  },
  {
   "cell_type": "markdown",
   "source": [
    "Forward propagation"
   ],
   "metadata": {
    "collapsed": false,
    "pycharm": {
     "name": "#%% md\n"
    }
   }
  },
  {
   "cell_type": "code",
   "execution_count": 90,
   "outputs": [
    {
     "name": "stdout",
     "output_type": "stream",
     "text": [
      "[[0.50692141]\n",
      " [0.50692141]\n",
      " [0.50692141]\n",
      " [0.50692141]\n",
      " [0.50692141]]\n"
     ]
    }
   ],
   "source": [
    "input = np.arange(5,5+all_nodes_layer_count[0])\n",
    "input= np.append(1,input)\n",
    "input= np.transpose(np.array([input]))\n",
    "inp = input\n",
    "for i in range(len(params)):\n",
    "    out_1=np.dot(params[i],inp)\n",
    "    if i != len(params)-1:\n",
    "        out_1=np.append([[1]],out_1,axis = 0)\n",
    "    inp = out_1\n",
    "print(inp)"
   ],
   "metadata": {
    "collapsed": false,
    "pycharm": {
     "name": "#%%\n"
    }
   }
  },
  {
   "cell_type": "code",
   "execution_count": null,
   "outputs": [],
   "source": [
    "\n",
    "\n",
    "\n"
   ],
   "metadata": {
    "collapsed": false,
    "pycharm": {
     "name": "#%%\n"
    }
   }
  }
 ],
 "metadata": {
  "kernelspec": {
   "display_name": "Python 3",
   "language": "python",
   "name": "python3"
  },
  "language_info": {
   "codemirror_mode": {
    "name": "ipython",
    "version": 2
   },
   "file_extension": ".py",
   "mimetype": "text/x-python",
   "name": "python",
   "nbconvert_exporter": "python",
   "pygments_lexer": "ipython2",
   "version": "2.7.6"
  }
 },
 "nbformat": 4,
 "nbformat_minor": 0
}