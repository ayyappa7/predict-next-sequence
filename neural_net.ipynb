{
 "cells": [
  {
   "cell_type": "code",
   "execution_count": null,
   "metadata": {
    "collapsed": true
   },
   "outputs": [],
   "source": [
    "import numpy as np"
   ]
  },
  {
   "cell_type": "markdown",
   "source": [
    "Configuration of nodes\n",
    "XOR model implementation"
   ],
   "metadata": {
    "collapsed": false,
    "pycharm": {
     "name": "#%% md\n"
    }
   }
  },
  {
   "cell_type": "code",
   "execution_count": null,
   "outputs": [],
   "source": [
    "input_layer_nodes_count=2\n",
    "output_layer_nodes_count=1\n",
    "hidden_layer_nodes_count = [2,1]\n",
    "\n",
    "all_nodes_layer_count = [input_layer_nodes_count]\n",
    "for i in hidden_layer_nodes_count:\n",
    "    all_nodes_layer_count.append(i)\n",
    "all_nodes_layer_count.append(output_layer_nodes_count)\n",
    "print(all_nodes_layer_count)"
   ],
   "metadata": {
    "collapsed": false,
    "pycharm": {
     "name": "#%%\n"
    }
   }
  },
  {
   "cell_type": "markdown",
   "source": [
    "params initialization"
   ],
   "metadata": {
    "collapsed": false,
    "pycharm": {
     "name": "#%% md\n"
    }
   }
  },
  {
   "cell_type": "code",
   "execution_count": null,
   "outputs": [],
   "source": [
    "params =[]\n",
    "for k in range(len(all_nodes_layer_count)-1):\n",
    "    p = np.zeros((0,all_nodes_layer_count[k]+1))\n",
    "    for j in range(all_nodes_layer_count[k+1]):\n",
    "        p = np.append(p,np.array([[0.01 for i in range(all_nodes_layer_count[k]+1)]]),axis = 0)\n",
    "    params.append(p)"
   ],
   "metadata": {
    "collapsed": false,
    "pycharm": {
     "name": "#%%\n"
    }
   }
  },
  {
   "cell_type": "code",
   "source": [
    "print(params)"
   ],
   "metadata": {
    "collapsed": false,
    "pycharm": {
     "name": "#%%\n"
    }
   },
   "execution_count": null,
   "outputs": []
  },
  {
   "cell_type": "code",
   "execution_count": null,
   "outputs": [],
   "source": [
    "def sigmoid(output):\n",
    "    return 1 / (1 + np.exp(-1 * output))"
   ],
   "metadata": {
    "collapsed": false,
    "pycharm": {
     "name": "#%%\n"
    }
   }
  },
  {
   "cell_type": "markdown",
   "source": [
    "Forward propagation"
   ],
   "metadata": {
    "collapsed": false,
    "pycharm": {
     "name": "#%% md\n"
    }
   }
  },
  {
   "cell_type": "code",
   "execution_count": null,
   "outputs": [],
   "source": [
    "#TODO return the outputs of all nodes\n",
    "def forwardPropagation(input):\n",
    "    inp = input\n",
    "    for i in range(len(params)):\n",
    "        out_1=sigmoid(np.dot(params[i],inp))\n",
    "        if i != len(params)-1:\n",
    "            out_1=np.append([[1 for i in range(len(out_1[0]))]],out_1,axis = 0)\n",
    "        inp = out_1\n",
    "    return inp"
   ],
   "metadata": {
    "collapsed": false,
    "pycharm": {
     "name": "#%%\n"
    }
   }
  },
  {
   "cell_type": "markdown",
   "source": [
    "Delta"
   ],
   "metadata": {
    "collapsed": false,
    "pycharm": {
     "name": "#%% md\n"
    }
   }
  },
  {
   "cell_type": "code",
   "execution_count": null,
   "outputs": [],
   "source": [
    "deltas = []\n",
    "input=[[1, 1, 1, 1],[0, 0, 1, 1],[0, 1, 0, 1]]\n",
    "expected = [[0, 1, 1, 0]]\n",
    "\n",
    "for ex in range(len(input[0])):\n",
    "    predicted=forwardPropagation(np.transpose([np.array(input)[:,ex]]))\n",
    "    delta = predicted-expected[0][ex]\n",
    "    deltas.append(delta)\n",
    "    p = params[len(params)-1]\n",
    "    d = np.sum(params[len(params)-1]*np.transpose(deltas[len(deltas)-1]),axis=0)\n",
    "    deltas.append(d)\n",
    "    for i in range(len(params)-2,-1,-1):\n",
    "        p=params[i]\n",
    "        d = np.sum(p*np.transpose([deltas[-1][1:]]),axis = 0)\n",
    "        deltas.append(d)\n",
    "    print(deltas)"
   ],
   "metadata": {
    "collapsed": false,
    "pycharm": {
     "name": "#%%\n"
    }
   }
  },
  {
   "cell_type": "code",
   "source": [],
   "metadata": {
    "collapsed": false,
    "pycharm": {
     "name": "#%% md delta of hidden layers\n"
    }
   },
   "execution_count": null,
   "outputs": []
  }
 ],
 "metadata": {
  "kernelspec": {
   "display_name": "Python 3",
   "language": "python",
   "name": "python3"
  },
  "language_info": {
   "codemirror_mode": {
    "name": "ipython",
    "version": 2
   },
   "file_extension": ".py",
   "mimetype": "text/x-python",
   "name": "python",
   "nbconvert_exporter": "python",
   "pygments_lexer": "ipython2",
   "version": "2.7.6"
  }
 },
 "nbformat": 4,
 "nbformat_minor": 0
}